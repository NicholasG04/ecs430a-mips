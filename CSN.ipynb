{
 "cells": [
  {
   "cell_type": "code",
   "execution_count": 3,
   "id": "87900063-2f91-4846-af2c-6d1f372bf1b1",
   "metadata": {},
   "outputs": [],
   "source": [
    "public static int evalX(int a, int b, int c, int d) {\n",
    "  int e = 2*b;\n",
    "  int f = a/8;\n",
    "  int g = e * f; // 2b * a/8\n",
    "  int h = d/8;\n",
    "  int i = 2*d;\n",
    "  int j = h ^ i;\n",
    "  int k = j/16; // (d/8 ^ 2d)/16\n",
    "  int l = g + k;\n",
    "  return l;\n",
    "}"
   ]
  },
  {
   "cell_type": "code",
   "execution_count": 38,
   "id": "a6b16795-200e-40bc-9d92-b9e82b574ebd",
   "metadata": {},
   "outputs": [],
   "source": [
    "public static int evalY(int a, int b, int c, int d) {\n",
    "  int e = d/32;\n",
    "  int f = e % -c; // d/32 % -c\n",
    "  int g = 5*b;\n",
    "  int h = -5389 - 3*d;\n",
    "  int i = (5 * b) / h;\n",
    "  int j = i / 32; // (5b / (-5389 - 3d))/32\n",
    "  int k = f + j;\n",
    "  return k;\n",
    "}"
   ]
  },
  {
   "cell_type": "code",
   "execution_count": 28,
   "id": "be6407e4-858e-48a4-bf06-684893efd786",
   "metadata": {},
   "outputs": [],
   "source": [
    "public static byte numb1(int a, int b) {\n",
    "  byte[] ret = new byte[4];\n",
    "  \n",
    "  // byte d = (byte) b;\n",
    "  ret[0] = (byte) (a & 0xFF);\n",
    "  a = a >>> 8;\n",
    "  ret[1] = (byte) (a & 0xFF);\n",
    "  a = a >>> 8;\n",
    "  ret[2] = (byte) (a & 0xFF);\n",
    "  a = a >>> 8;\n",
    "  ret[3] = (byte) (a & 0xFF);\n",
    "  \n",
    "  byte ans = 0;\n",
    "  for (int i = 0; i < ret.length; i++)\n",
    "    ans += ret[i];\n",
    "  return ans;\n",
    "}"
   ]
  },
  {
   "cell_type": "code",
   "execution_count": 29,
   "id": "a1bc8151-d757-4c27-badb-2c6f2050cab2",
   "metadata": {},
   "outputs": [],
   "source": [
    "public static byte numb2(int a, int b) {\n",
    "  byte[] ret = new byte[4];\n",
    "  a = b;\n",
    "  \n",
    "  // byte d = (byte) b;\n",
    "  ret[0] = (byte) (a & 0xFF);\n",
    "  a = a >>> 8;\n",
    "  ret[1] = (byte) (a & 0xFF);\n",
    "  a = a >>> 8;\n",
    "  ret[2] = (byte) (a & 0xFF);\n",
    "  a = a >>> 8;\n",
    "  ret[3] = (byte) (a & 0xFF);\n",
    "  \n",
    "  byte ans = 0;\n",
    "  for (int i = 0; i < ret.length; i++)\n",
    "    ans += ret[i];\n",
    "  return ans;\n",
    "}"
   ]
  },
  {
   "cell_type": "code",
   "execution_count": 66,
   "id": "d775abb9-5fce-400b-a434-afb091cd51b2",
   "metadata": {},
   "outputs": [],
   "source": [
    "public static void proc() {\n",
    "  int[][] input = { { -1517918040, 1115789266, -208917030, 1019800440, -611652875, 1362132786, 1968097058, -1933932397, 1442904595 },\n",
    "                {397902075, 875635521, 64950077, 1489956094, 1957992572, -1643623517, 442180728, -228236395, 1697976025 },\n",
    "                {68289794, 1039969854, 1746061949, 2062777118, 299683815, -718691403, 212908357, 132984726, 1032908145 },\n",
    "                {82783393, -1035563318, 1297131613, 1128164436, -929119207, 1259270109, -506736844, 1687192100, 1980650109 },\n",
    "                {-1258025950, -1134942060, 629585107, 829125286, 1592839482, 2048933381, 165189752, 367089247, -2059185116 },\n",
    "                {-1058874961, -441375407, -1470890476, -1044420384, 293463857, 1673193995, 778745801, 703971413, 262671793 },\n",
    "                {-1303994816, -1722869427, -1756414860, -1551018189, -571877056, 673507758, 1590266524, 1738307886, 1099690259 },\n",
    "                {-1114460689, 947176512, 1720160860, -290241090, 351915256, 362280390, 741503441, -716866363, -1166508339 },\n",
    "                {308064178, -715801777, 1410429169, -2084635901, -616561149, -297829160, 1403116115, -1704682898, -1182162468 },\n",
    "                {915343747, -146541944, 973135903, -621819545, 2136157587, -1390569155, -1877500531, 1234797046, -540078139 },\n",
    "                {434289909, -1591302639, -920768406, 211506152, 796003337, 1477887383, 1832147928, 706630323, 463286768 },\n",
    "                {-1959203182, 632780393, -2018542894, -1780407104, -1760308432, -1278816127, 694628161, 471287540, 1926585807 },\n",
    "                {-214033886, 1423816413, -1620024977, -947995474, 753538707, -1104080584, -124339775, -2129070873, 920806972 },\n",
    "                {-808270676, -1276852056, -1549061988, -1684305197, -2044986958, -1452124968, 1938504816, 1406306749, -1195935884 },\n",
    "                {-1466829314, 2100553785, -173682514, -2066328160, -814398462, -212582669, -1706737518, 85817214, 105789069 },\n",
    "                {-1652176393, 1306362543, 478618692, 1437104330, 239555435, 822152202, -514502488, 1243460975, -1631790084 },\n",
    "                {-1173130486, 300314039, 1748246270, 1233958858, -698221733, -402140955, 2053552199, -1489172828, 1071545365 },\n",
    "                {-444724892, -1521802958, 888404853, -736099300, -1221806407, 314633147, -1783585027, 1436475593, -1060326261, },\n",
    "                {1498594620, 2100902339, -413668663, 314093501, -1196310542, 1985409353, 257768773, -1824163649, -877123399 },\n",
    "                { 986129537, -862405821, -1231247583, 1676137754, 231482240, -1587083445, -1067097496, 505824647, -1581261199 } };\n",
    "  \n",
    "  byte[] rets = new byte[20];\n",
    "  int[] retsints = new int[20];\n",
    "  \n",
    "  for (int i=0; i<input.length; i++) {\n",
    "    int[] thisArr = input[i];\n",
    "    int a = thisArr[1];\n",
    "    int b = thisArr[0];\n",
    "    int c = thisArr[5];\n",
    "    int d = thisArr[2];\n",
    "    \n",
    "    int v = evalX(a, b, c, d); // a0 from evalX\n",
    "    int w = evalY(a, b, c, d); // a0 from evalY\n",
    "    \n",
    "    int e = numb1(v, w);\n",
    "    int f = numb2(v, w);\n",
    "    \n",
    "    byte g = (byte) (e & 0xFF);\n",
    "    byte h = (byte) (f & 0xFF);\n",
    "    byte j = (byte) ((g + h) & 0xFF);\n",
    "    int k = (g + h) & 0xFF;\n",
    "    \n",
    "    rets[i] = j;\n",
    "    retsints[i] = k;\n",
    "    \n",
    "    System.out.println(j);\n",
    "  }\n",
    "  \n",
    "  System.out.println(Arrays.toString(rets));\n",
    "  System.out.println(Arrays.toString(retsints));\n",
    "  \n",
    "}"
   ]
  },
  {
   "cell_type": "code",
   "execution_count": 67,
   "id": "0e3251a8-8c79-47bf-8f20-4e8c10f28a3f",
   "metadata": {},
   "outputs": [
    {
     "name": "stdout",
     "output_type": "stream",
     "text": [
      "20613\n"
     ]
    }
   ],
   "source": [
    "System.out.println(evalX(739, 112, 1729, 42));"
   ]
  },
  {
   "cell_type": "code",
   "execution_count": 68,
   "id": "930a4843-849a-4012-8160-03bdb657c2b0",
   "metadata": {
    "tags": []
   },
   "outputs": [
    {
     "name": "stdout",
     "output_type": "stream",
     "text": [
      "-13792981\n"
     ]
    }
   ],
   "source": [
    "System.out.println(evalY(-1780407104, 211506152, 1067097496, -441375407));"
   ]
  },
  {
   "cell_type": "code",
   "execution_count": 69,
   "id": "b33b58e2-ae77-4afc-9c27-750357b85fcd",
   "metadata": {
    "tags": []
   },
   "outputs": [
    {
     "name": "stdout",
     "output_type": "stream",
     "text": [
      "-137\n"
     ]
    }
   ],
   "source": [
    "System.out.println(evalY(-1780, 2115, 1067, -4413));"
   ]
  },
  {
   "cell_type": "code",
   "execution_count": 70,
   "id": "7a4a5fef-0a3b-4abe-90ae-49039aeb26ba",
   "metadata": {},
   "outputs": [
    {
     "name": "stdout",
     "output_type": "stream",
     "text": [
      "-62\n",
      "-122\n",
      "67\n",
      "67\n",
      "-23\n",
      "-79\n",
      "-14\n",
      "84\n",
      "90\n",
      "-88\n",
      "43\n",
      "66\n",
      "-60\n",
      "68\n",
      "-14\n",
      "-67\n",
      "-80\n",
      "-13\n",
      "-1\n",
      "-64\n",
      "[-62, -122, 67, 67, -23, -79, -14, 84, 90, -88, 43, 66, -60, 68, -14, -67, -80, -13, -1, -64]\n",
      "[194, 134, 67, 67, 233, 177, 242, 84, 90, 168, 43, 66, 196, 68, 242, 189, 176, 243, 255, 192]\n"
     ]
    }
   ],
   "source": [
    "proc();"
   ]
  }
 ],
 "metadata": {
  "kernelspec": {
   "display_name": "Java",
   "language": "java",
   "name": "java"
  },
  "language_info": {
   "codemirror_mode": "java",
   "file_extension": ".jshell",
   "mimetype": "text/x-java-source",
   "name": "Java",
   "pygments_lexer": "java",
   "version": "11.0.8+10-LTS"
  }
 },
 "nbformat": 4,
 "nbformat_minor": 5
}
